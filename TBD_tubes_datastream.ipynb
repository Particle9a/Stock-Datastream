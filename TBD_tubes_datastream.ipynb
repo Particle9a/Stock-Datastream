{
 "cells": [
  {
   "cell_type": "code",
   "execution_count": 1,
   "metadata": {},
   "outputs": [],
   "source": [
    "import requests\n",
    "from iexfinance import get_available_symbols\n",
    "from datetime import date, timedelta\n",
    "from dateutil.relativedelta import relativedelta\n",
    "import matplotlib.pyplot as plt\n",
    "import pandas as pd\n",
    "import numpy as np\n",
    "import random\n",
    "import time"
   ]
  },
  {
   "cell_type": "markdown",
   "metadata": {},
   "source": [
    "## Sampling Data Stream"
   ]
  },
  {
   "cell_type": "markdown",
   "metadata": {},
   "source": [
    "#### Step 1 : Get Sample Space (Previous Month Stock per Day, per Minute)"
   ]
  },
  {
   "cell_type": "code",
   "execution_count": 109,
   "metadata": {},
   "outputs": [],
   "source": [
    "today = date.today()\n",
    "d = today - relativedelta(months=1)\n",
    "start_date = date(d.year, d.month, 1)\n",
    "end_date = date(today.year, today.month, 1) - relativedelta(days=1)\n",
    "today = date.today()\n",
    "datelist = pd.bdate_range(start_date,today).tolist()\n",
    "dateRange = []\n",
    "for curr in datelist :\n",
    "    dateRange.append(curr.strftime('date/%Y%m%d'))\n",
    "dateRange.pop()\n",
    "dateRange.append('1d')"
   ]
  },
  {
   "cell_type": "code",
   "execution_count": 110,
   "metadata": {},
   "outputs": [],
   "source": [
    "json_dat= get_available_symbols()\n",
    "sym = \"\"\n",
    "symbols = []\n",
    "for x in json_dat :\n",
    "    symbols.append(str(x['symbol']))\n",
    "    sym += \",\" + str(x['symbol'])"
   ]
  },
  {
   "cell_type": "markdown",
   "metadata": {},
   "source": [
    "#### Step 2 : Randomize Date and Company (Random Sampling)"
   ]
  },
  {
   "cell_type": "code",
   "execution_count": 111,
   "metadata": {},
   "outputs": [
    {
     "data": {
      "text/plain": [
       "297"
      ]
     },
     "execution_count": 111,
     "metadata": {},
     "output_type": "execute_result"
    }
   ],
   "source": [
    "num_sample = (len(symbols) * len(dateRange))//1000\n",
    "num_sample"
   ]
  },
  {
   "cell_type": "code",
   "execution_count": null,
   "metadata": {},
   "outputs": [],
   "source": [
    "json_result = []\n",
    "samples = []\n",
    "for i in range(0,num_sample):\n",
    "    comp_name = random.choice(symbols)\n",
    "    x_date = random.choice(dateRange)\n",
    "    while (comp_name,x_date) in samples :\n",
    "        comp_name = random.choice(symbols)\n",
    "        x_date = random.choice(dateRange)\n",
    "    \n",
    "    contents = []\n",
    "    while contents == []:\n",
    "        comp_name = random.choice(symbols)\n",
    "        x_date = random.choice(dateRange)\n",
    "        queryStr = \"https://api.iextrading.com/1.0/stock/\"+ comp_name +\"/chart/\" + x_date\n",
    "        contents = requests.get(queryStr).json()\n",
    "    samples.append((comp_name,x_date))\n",
    "    for x in contents :\n",
    "        x['company'] = comp_name\n",
    "    json_result += contents"
   ]
  },
  {
   "cell_type": "code",
   "execution_count": null,
   "metadata": {},
   "outputs": [],
   "source": [
    "random.shuffle(json_result)"
   ]
  },
  {
   "cell_type": "code",
   "execution_count": 13,
   "metadata": {},
   "outputs": [
    {
     "data": {
      "text/html": [
       "<div>\n",
       "<style scoped>\n",
       "    .dataframe tbody tr th:only-of-type {\n",
       "        vertical-align: middle;\n",
       "    }\n",
       "\n",
       "    .dataframe tbody tr th {\n",
       "        vertical-align: top;\n",
       "    }\n",
       "\n",
       "    .dataframe thead th {\n",
       "        text-align: right;\n",
       "    }\n",
       "</style>\n",
       "<table border=\"1\" class=\"dataframe\">\n",
       "  <thead>\n",
       "    <tr style=\"text-align: right;\">\n",
       "      <th></th>\n",
       "      <th>average</th>\n",
       "      <th>changeOverTime</th>\n",
       "      <th>close</th>\n",
       "      <th>company</th>\n",
       "      <th>date</th>\n",
       "      <th>high</th>\n",
       "      <th>label</th>\n",
       "      <th>low</th>\n",
       "      <th>marketAverage</th>\n",
       "      <th>marketChangeOverTime</th>\n",
       "      <th>...</th>\n",
       "      <th>marketLow</th>\n",
       "      <th>marketNotional</th>\n",
       "      <th>marketNumberOfTrades</th>\n",
       "      <th>marketOpen</th>\n",
       "      <th>marketVolume</th>\n",
       "      <th>minute</th>\n",
       "      <th>notional</th>\n",
       "      <th>numberOfTrades</th>\n",
       "      <th>open</th>\n",
       "      <th>volume</th>\n",
       "    </tr>\n",
       "  </thead>\n",
       "  <tbody>\n",
       "    <tr>\n",
       "      <th>0</th>\n",
       "      <td>-1.000</td>\n",
       "      <td>NaN</td>\n",
       "      <td>NaN</td>\n",
       "      <td>ABR-C</td>\n",
       "      <td>20181128</td>\n",
       "      <td>-1.000</td>\n",
       "      <td>11:04 AM</td>\n",
       "      <td>-1.000</td>\n",
       "      <td>-1.000</td>\n",
       "      <td>-1.039216</td>\n",
       "      <td>...</td>\n",
       "      <td>-1.000</td>\n",
       "      <td>0.0000</td>\n",
       "      <td>0.0</td>\n",
       "      <td>NaN</td>\n",
       "      <td>0.0</td>\n",
       "      <td>11:04</td>\n",
       "      <td>0.0</td>\n",
       "      <td>0</td>\n",
       "      <td>NaN</td>\n",
       "      <td>0</td>\n",
       "    </tr>\n",
       "    <tr>\n",
       "      <th>1</th>\n",
       "      <td>-1.000</td>\n",
       "      <td>NaN</td>\n",
       "      <td>NaN</td>\n",
       "      <td>NTC</td>\n",
       "      <td>20181105</td>\n",
       "      <td>-1.000</td>\n",
       "      <td>09:37 AM</td>\n",
       "      <td>-1.000</td>\n",
       "      <td>11.067</td>\n",
       "      <td>0.001538</td>\n",
       "      <td>...</td>\n",
       "      <td>11.067</td>\n",
       "      <td>9053.0900</td>\n",
       "      <td>3.0</td>\n",
       "      <td>11.070</td>\n",
       "      <td>818.0</td>\n",
       "      <td>09:37</td>\n",
       "      <td>0.0</td>\n",
       "      <td>0</td>\n",
       "      <td>NaN</td>\n",
       "      <td>0</td>\n",
       "    </tr>\n",
       "    <tr>\n",
       "      <th>2</th>\n",
       "      <td>-1.000</td>\n",
       "      <td>NaN</td>\n",
       "      <td>NaN</td>\n",
       "      <td>HLF</td>\n",
       "      <td>20181113</td>\n",
       "      <td>-1.000</td>\n",
       "      <td>09:59 AM</td>\n",
       "      <td>-1.000</td>\n",
       "      <td>54.690</td>\n",
       "      <td>0.001630</td>\n",
       "      <td>...</td>\n",
       "      <td>54.630</td>\n",
       "      <td>80941.0100</td>\n",
       "      <td>16.0</td>\n",
       "      <td>54.700</td>\n",
       "      <td>1480.0</td>\n",
       "      <td>09:59</td>\n",
       "      <td>0.0</td>\n",
       "      <td>0</td>\n",
       "      <td>NaN</td>\n",
       "      <td>0</td>\n",
       "    </tr>\n",
       "    <tr>\n",
       "      <th>3</th>\n",
       "      <td>3.715</td>\n",
       "      <td>-4.715</td>\n",
       "      <td>3.715</td>\n",
       "      <td>ZNGA</td>\n",
       "      <td>20181217</td>\n",
       "      <td>3.715</td>\n",
       "      <td>2:18 PM</td>\n",
       "      <td>3.715</td>\n",
       "      <td>3.714</td>\n",
       "      <td>0.003784</td>\n",
       "      <td>...</td>\n",
       "      <td>3.710</td>\n",
       "      <td>21889.4597</td>\n",
       "      <td>41.0</td>\n",
       "      <td>3.715</td>\n",
       "      <td>5894.0</td>\n",
       "      <td>14:18</td>\n",
       "      <td>371.5</td>\n",
       "      <td>1</td>\n",
       "      <td>3.715</td>\n",
       "      <td>100</td>\n",
       "    </tr>\n",
       "    <tr>\n",
       "      <th>4</th>\n",
       "      <td>-1.000</td>\n",
       "      <td>NaN</td>\n",
       "      <td>NaN</td>\n",
       "      <td>IYM</td>\n",
       "      <td>20181207</td>\n",
       "      <td>-1.000</td>\n",
       "      <td>3:27 PM</td>\n",
       "      <td>-1.000</td>\n",
       "      <td>85.568</td>\n",
       "      <td>-0.028652</td>\n",
       "      <td>...</td>\n",
       "      <td>85.568</td>\n",
       "      <td>27296.1920</td>\n",
       "      <td>2.0</td>\n",
       "      <td>85.568</td>\n",
       "      <td>319.0</td>\n",
       "      <td>15:27</td>\n",
       "      <td>0.0</td>\n",
       "      <td>0</td>\n",
       "      <td>NaN</td>\n",
       "      <td>0</td>\n",
       "    </tr>\n",
       "  </tbody>\n",
       "</table>\n",
       "<p>5 rows × 22 columns</p>\n",
       "</div>"
      ],
      "text/plain": [
       "   average  changeOverTime  close company      date   high     label    low  \\\n",
       "0   -1.000             NaN    NaN   ABR-C  20181128 -1.000  11:04 AM -1.000   \n",
       "1   -1.000             NaN    NaN     NTC  20181105 -1.000  09:37 AM -1.000   \n",
       "2   -1.000             NaN    NaN     HLF  20181113 -1.000  09:59 AM -1.000   \n",
       "3    3.715          -4.715  3.715    ZNGA  20181217  3.715   2:18 PM  3.715   \n",
       "4   -1.000             NaN    NaN     IYM  20181207 -1.000   3:27 PM -1.000   \n",
       "\n",
       "   marketAverage  marketChangeOverTime   ...    marketLow  marketNotional  \\\n",
       "0         -1.000             -1.039216   ...       -1.000          0.0000   \n",
       "1         11.067              0.001538   ...       11.067       9053.0900   \n",
       "2         54.690              0.001630   ...       54.630      80941.0100   \n",
       "3          3.714              0.003784   ...        3.710      21889.4597   \n",
       "4         85.568             -0.028652   ...       85.568      27296.1920   \n",
       "\n",
       "   marketNumberOfTrades  marketOpen  marketVolume  minute  notional  \\\n",
       "0                   0.0         NaN           0.0   11:04       0.0   \n",
       "1                   3.0      11.070         818.0   09:37       0.0   \n",
       "2                  16.0      54.700        1480.0   09:59       0.0   \n",
       "3                  41.0       3.715        5894.0   14:18     371.5   \n",
       "4                   2.0      85.568         319.0   15:27       0.0   \n",
       "\n",
       "  numberOfTrades   open  volume  \n",
       "0              0    NaN       0  \n",
       "1              0    NaN       0  \n",
       "2              0    NaN       0  \n",
       "3              1  3.715     100  \n",
       "4              0    NaN       0  \n",
       "\n",
       "[5 rows x 22 columns]"
      ]
     },
     "execution_count": 13,
     "metadata": {},
     "output_type": "execute_result"
    }
   ],
   "source": [
    "pd.DataFrame(json_result).head()"
   ]
  },
  {
   "cell_type": "markdown",
   "metadata": {},
   "source": [
    "## Filtering Data Stream"
   ]
  },
  {
   "cell_type": "markdown",
   "metadata": {},
   "source": [
    "#### Step 1 : Set Company With Most Activity"
   ]
  },
  {
   "cell_type": "code",
   "execution_count": 2,
   "metadata": {},
   "outputs": [],
   "source": [
    "symbols = ['GOOGL','TSLA','AAPL','DIS','FB','A','IBM','LMT','KRX','AMZN','NFLX']"
   ]
  },
  {
   "cell_type": "markdown",
   "metadata": {},
   "source": [
    "#### Step 2 : Set Sample Date Range"
   ]
  },
  {
   "cell_type": "code",
   "execution_count": 3,
   "metadata": {},
   "outputs": [],
   "source": [
    "today = date.today()\n",
    "d = today - relativedelta(months=1)\n",
    "start_date = date(d.year, d.month, 1)\n",
    "end_date = date(today.year, today.month, 1) - relativedelta(days=1)\n",
    "today = date.today()\n",
    "datelist = pd.bdate_range(start_date,today).tolist()\n",
    "dateRange = []\n",
    "for curr in datelist :\n",
    "    dateRange.append(curr.strftime('date/%Y%m%d'))\n",
    "dateRange.pop()\n",
    "dateRange.append('1d')"
   ]
  },
  {
   "cell_type": "markdown",
   "metadata": {},
   "source": [
    "#### Step 3 : Define Hash Function"
   ]
  },
  {
   "cell_type": "code",
   "execution_count": 4,
   "metadata": {},
   "outputs": [],
   "source": [
    "basket_keys = ['p_very_low', 'p_low','p_avg_low', 'p_avg_high', 'p_high', 'p_very_high',\n",
    "                'n_very_low', 'n_low', 'n_avg_low', 'n_avg_high', 'n_high', 'n_very_high']\n",
    "baskets = {key: [] for key in basket_keys}"
   ]
  },
  {
   "cell_type": "code",
   "execution_count": 5,
   "metadata": {},
   "outputs": [],
   "source": [
    "def h_func(item):\n",
    "    if item['changeOverTime'] == None :\n",
    "        return None\n",
    "    reactive_change = int(item['changeOverTime'] // 0.0001)\n",
    "    if item['changeOverTime'] > 0 :\n",
    "        if reactive_change > 100000 :\n",
    "            return 'p_very_high'\n",
    "        elif reactive_change > 10000 :\n",
    "            return 'p_high'\n",
    "        elif reactive_change > 1000 :\n",
    "            return 'p_avg_high'\n",
    "        elif reactive_change > 100 :\n",
    "            return 'p_avg_low'\n",
    "        elif reactive_change > 10 :\n",
    "            return 'p_low'\n",
    "        else :\n",
    "            return 'p_very_low'\n",
    "    elif item['changeOverTime'] < 0 :\n",
    "        if reactive_change < -100000 :\n",
    "            return 'n_very_high'\n",
    "        elif reactive_change < -10000 :\n",
    "            return 'n_high'\n",
    "        elif reactive_change < -1000 :\n",
    "            return 'n_avg_high'\n",
    "        elif reactive_change < -100 :\n",
    "            return 'n_avg_low'\n",
    "        elif reactive_change < -10 :\n",
    "            return 'n_low'\n",
    "        else :\n",
    "            return 'n_very_low'\n",
    "    else :\n",
    "        return None"
   ]
  },
  {
   "cell_type": "code",
   "execution_count": 6,
   "metadata": {},
   "outputs": [],
   "source": [
    "def filter_hash(item):\n",
    "    if h_func(item) in basket_keys :\n",
    "        return True\n",
    "    else :\n",
    "        return False"
   ]
  },
  {
   "cell_type": "markdown",
   "metadata": {},
   "source": [
    "#### Step 4 : Get Request"
   ]
  },
  {
   "cell_type": "code",
   "execution_count": 7,
   "metadata": {},
   "outputs": [],
   "source": [
    "json_result = []\n",
    "num_sample = 10\n",
    "samples = []\n",
    "for i in range(0,num_sample):\n",
    "    comp_name = random.choice(symbols)\n",
    "    x_date = random.choice(dateRange)\n",
    "    while (comp_name,x_date) in samples :\n",
    "        comp_name = random.choice(symbols)\n",
    "        x_date = random.choice(dateRange)\n",
    "    \n",
    "    contents = []\n",
    "    while contents == []:\n",
    "        comp_name = random.choice(symbols)\n",
    "        x_date = random.choice(dateRange)\n",
    "        queryStr = \"https://api.iextrading.com/1.0/stock/\"+ comp_name +\"/chart/\" + x_date\n",
    "        contents = requests.get(queryStr).json()\n",
    "    samples.append((comp_name,x_date))\n",
    "    for x in contents :\n",
    "        x['company'] = comp_name\n",
    "    json_result += contents"
   ]
  },
  {
   "cell_type": "markdown",
   "metadata": {},
   "source": [
    "#### Step 5 : Filter Sample"
   ]
  },
  {
   "cell_type": "code",
   "execution_count": 8,
   "metadata": {},
   "outputs": [
    {
     "data": {
      "text/html": [
       "<div>\n",
       "<style scoped>\n",
       "    .dataframe tbody tr th:only-of-type {\n",
       "        vertical-align: middle;\n",
       "    }\n",
       "\n",
       "    .dataframe tbody tr th {\n",
       "        vertical-align: top;\n",
       "    }\n",
       "\n",
       "    .dataframe thead th {\n",
       "        text-align: right;\n",
       "    }\n",
       "</style>\n",
       "<table border=\"1\" class=\"dataframe\">\n",
       "  <thead>\n",
       "    <tr style=\"text-align: right;\">\n",
       "      <th></th>\n",
       "      <th>average</th>\n",
       "      <th>changeOverTime</th>\n",
       "      <th>close</th>\n",
       "      <th>company</th>\n",
       "      <th>date</th>\n",
       "      <th>high</th>\n",
       "      <th>label</th>\n",
       "      <th>low</th>\n",
       "      <th>marketAverage</th>\n",
       "      <th>marketChangeOverTime</th>\n",
       "      <th>...</th>\n",
       "      <th>marketLow</th>\n",
       "      <th>marketNotional</th>\n",
       "      <th>marketNumberOfTrades</th>\n",
       "      <th>marketOpen</th>\n",
       "      <th>marketVolume</th>\n",
       "      <th>minute</th>\n",
       "      <th>notional</th>\n",
       "      <th>numberOfTrades</th>\n",
       "      <th>open</th>\n",
       "      <th>volume</th>\n",
       "    </tr>\n",
       "  </thead>\n",
       "  <tbody>\n",
       "    <tr>\n",
       "      <th>0</th>\n",
       "      <td>134.050</td>\n",
       "      <td>0.001853</td>\n",
       "      <td>134.11</td>\n",
       "      <td>FB</td>\n",
       "      <td>20181123</td>\n",
       "      <td>134.11</td>\n",
       "      <td>09:31 AM</td>\n",
       "      <td>133.96</td>\n",
       "      <td>134.019</td>\n",
       "      <td>0.002671</td>\n",
       "      <td>...</td>\n",
       "      <td>133.86</td>\n",
       "      <td>1.123429e+07</td>\n",
       "      <td>621</td>\n",
       "      <td>134.020</td>\n",
       "      <td>83826</td>\n",
       "      <td>09:31</td>\n",
       "      <td>53620.000</td>\n",
       "      <td>4</td>\n",
       "      <td>134.04</td>\n",
       "      <td>400</td>\n",
       "    </tr>\n",
       "    <tr>\n",
       "      <th>1</th>\n",
       "      <td>133.998</td>\n",
       "      <td>0.001465</td>\n",
       "      <td>134.01</td>\n",
       "      <td>FB</td>\n",
       "      <td>20181123</td>\n",
       "      <td>134.06</td>\n",
       "      <td>09:32 AM</td>\n",
       "      <td>133.97</td>\n",
       "      <td>133.969</td>\n",
       "      <td>0.002297</td>\n",
       "      <td>...</td>\n",
       "      <td>133.71</td>\n",
       "      <td>6.802960e+06</td>\n",
       "      <td>445</td>\n",
       "      <td>134.100</td>\n",
       "      <td>50780</td>\n",
       "      <td>09:32</td>\n",
       "      <td>125421.670</td>\n",
       "      <td>10</td>\n",
       "      <td>133.97</td>\n",
       "      <td>936</td>\n",
       "    </tr>\n",
       "    <tr>\n",
       "      <th>2</th>\n",
       "      <td>133.736</td>\n",
       "      <td>-0.000493</td>\n",
       "      <td>133.76</td>\n",
       "      <td>FB</td>\n",
       "      <td>20181123</td>\n",
       "      <td>133.76</td>\n",
       "      <td>09:33 AM</td>\n",
       "      <td>133.67</td>\n",
       "      <td>133.569</td>\n",
       "      <td>-0.000696</td>\n",
       "      <td>...</td>\n",
       "      <td>133.31</td>\n",
       "      <td>8.197259e+06</td>\n",
       "      <td>492</td>\n",
       "      <td>133.760</td>\n",
       "      <td>61371</td>\n",
       "      <td>09:33</td>\n",
       "      <td>179607.545</td>\n",
       "      <td>11</td>\n",
       "      <td>133.67</td>\n",
       "      <td>1343</td>\n",
       "    </tr>\n",
       "    <tr>\n",
       "      <th>3</th>\n",
       "      <td>133.731</td>\n",
       "      <td>-0.000531</td>\n",
       "      <td>133.76</td>\n",
       "      <td>FB</td>\n",
       "      <td>20181123</td>\n",
       "      <td>133.81</td>\n",
       "      <td>09:34 AM</td>\n",
       "      <td>133.56</td>\n",
       "      <td>133.603</td>\n",
       "      <td>-0.000441</td>\n",
       "      <td>...</td>\n",
       "      <td>133.35</td>\n",
       "      <td>7.883518e+06</td>\n",
       "      <td>545</td>\n",
       "      <td>133.390</td>\n",
       "      <td>59007</td>\n",
       "      <td>09:34</td>\n",
       "      <td>80506.120</td>\n",
       "      <td>6</td>\n",
       "      <td>133.56</td>\n",
       "      <td>602</td>\n",
       "    </tr>\n",
       "    <tr>\n",
       "      <th>4</th>\n",
       "      <td>133.839</td>\n",
       "      <td>0.000277</td>\n",
       "      <td>133.92</td>\n",
       "      <td>FB</td>\n",
       "      <td>20181123</td>\n",
       "      <td>133.98</td>\n",
       "      <td>09:35 AM</td>\n",
       "      <td>133.73</td>\n",
       "      <td>133.889</td>\n",
       "      <td>0.001698</td>\n",
       "      <td>...</td>\n",
       "      <td>133.70</td>\n",
       "      <td>8.941948e+06</td>\n",
       "      <td>614</td>\n",
       "      <td>133.805</td>\n",
       "      <td>66786</td>\n",
       "      <td>09:35</td>\n",
       "      <td>168637.800</td>\n",
       "      <td>14</td>\n",
       "      <td>133.73</td>\n",
       "      <td>1260</td>\n",
       "    </tr>\n",
       "  </tbody>\n",
       "</table>\n",
       "<p>5 rows × 22 columns</p>\n",
       "</div>"
      ],
      "text/plain": [
       "   average  changeOverTime   close company      date    high     label  \\\n",
       "0  134.050        0.001853  134.11      FB  20181123  134.11  09:31 AM   \n",
       "1  133.998        0.001465  134.01      FB  20181123  134.06  09:32 AM   \n",
       "2  133.736       -0.000493  133.76      FB  20181123  133.76  09:33 AM   \n",
       "3  133.731       -0.000531  133.76      FB  20181123  133.81  09:34 AM   \n",
       "4  133.839        0.000277  133.92      FB  20181123  133.98  09:35 AM   \n",
       "\n",
       "      low  marketAverage  marketChangeOverTime   ...    marketLow  \\\n",
       "0  133.96        134.019              0.002671   ...       133.86   \n",
       "1  133.97        133.969              0.002297   ...       133.71   \n",
       "2  133.67        133.569             -0.000696   ...       133.31   \n",
       "3  133.56        133.603             -0.000441   ...       133.35   \n",
       "4  133.73        133.889              0.001698   ...       133.70   \n",
       "\n",
       "   marketNotional  marketNumberOfTrades  marketOpen  marketVolume  minute  \\\n",
       "0    1.123429e+07                   621     134.020         83826   09:31   \n",
       "1    6.802960e+06                   445     134.100         50780   09:32   \n",
       "2    8.197259e+06                   492     133.760         61371   09:33   \n",
       "3    7.883518e+06                   545     133.390         59007   09:34   \n",
       "4    8.941948e+06                   614     133.805         66786   09:35   \n",
       "\n",
       "     notional numberOfTrades    open  volume  \n",
       "0   53620.000              4  134.04     400  \n",
       "1  125421.670             10  133.97     936  \n",
       "2  179607.545             11  133.67    1343  \n",
       "3   80506.120              6  133.56     602  \n",
       "4  168637.800             14  133.73    1260  \n",
       "\n",
       "[5 rows x 22 columns]"
      ]
     },
     "execution_count": 8,
     "metadata": {},
     "output_type": "execute_result"
    }
   ],
   "source": [
    "filtered_result = [item for item in json_result if filter_hash(item)]\n",
    "pd.DataFrame(filtered_result).head()"
   ]
  },
  {
   "cell_type": "code",
   "execution_count": 10,
   "metadata": {},
   "outputs": [
    {
     "data": {
      "text/plain": [
       "2812"
      ]
     },
     "execution_count": 10,
     "metadata": {},
     "output_type": "execute_result"
    }
   ],
   "source": [
    "len(filtered_result)"
   ]
  },
  {
   "cell_type": "code",
   "execution_count": 11,
   "metadata": {},
   "outputs": [
    {
     "data": {
      "text/plain": [
       "3720"
      ]
     },
     "execution_count": 11,
     "metadata": {},
     "output_type": "execute_result"
    }
   ],
   "source": [
    "len(json_result)"
   ]
  },
  {
   "cell_type": "code",
   "execution_count": 14,
   "metadata": {},
   "outputs": [],
   "source": [
    "filtered_positive_result = [item for item in json_result if positive_filter(item)]"
   ]
  },
  {
   "cell_type": "code",
   "execution_count": 15,
   "metadata": {},
   "outputs": [
    {
     "data": {
      "text/plain": [
       "403"
      ]
     },
     "execution_count": 15,
     "metadata": {},
     "output_type": "execute_result"
    }
   ],
   "source": [
    "len(filtered_positive_result)"
   ]
  },
  {
   "cell_type": "code",
   "execution_count": 17,
   "metadata": {},
   "outputs": [
    {
     "data": {
      "text/plain": [
       "2409"
      ]
     },
     "execution_count": 17,
     "metadata": {},
     "output_type": "execute_result"
    }
   ],
   "source": [
    "filtered_negative_result = [item for item in json_result if negative_filter(item)]\n",
    "len(filtered_negative_result)"
   ]
  },
  {
   "cell_type": "markdown",
   "metadata": {},
   "source": [
    "## Windowing"
   ]
  },
  {
   "cell_type": "code",
   "execution_count": 18,
   "metadata": {},
   "outputs": [],
   "source": [
    "pos_basket_keys = ['p_very_low', 'p_low','p_avg_low', 'p_avg_high', 'p_high', 'p_very_high']\n",
    "def positive_filter(item):\n",
    "    if h_func(item) in pos_basket_keys :\n",
    "        return True\n",
    "    else :\n",
    "        return False\n",
    "neg_basket_keys = ['n_very_low', 'n_low','n_avg_low', 'n_avg_high', 'n_high', 'n_very_high']\n",
    "def negative_filter(item):\n",
    "    if h_func(item) in neg_basket_keys :\n",
    "        return True\n",
    "    else :\n",
    "        return False\n",
    "significant_basket_keys = ['p_avg_high', 'p_high', 'p_very_high', 'n_avg_high', 'n_high', 'n_very_high']\n",
    "def significant_filter(item):\n",
    "    if h_func(item) in significant_basket_keys :\n",
    "        return True\n",
    "    else :\n",
    "        return False"
   ]
  },
  {
   "cell_type": "code",
   "execution_count": 19,
   "metadata": {},
   "outputs": [],
   "source": [
    "def mapList(keyFunction, values):\n",
    "    return dict((keyFunction(v), v) for v in values)"
   ]
  },
  {
   "cell_type": "code",
   "execution_count": 20,
   "metadata": {},
   "outputs": [],
   "source": [
    "def without(d, key):\n",
    "    new_d = d.copy()\n",
    "    if isinstance(key, list) :\n",
    "        for k in key :\n",
    "            new_d.pop(k)\n",
    "        return new_d\n",
    "    new_d.pop(key)\n",
    "    return new_d"
   ]
  },
  {
   "cell_type": "markdown",
   "metadata": {},
   "source": [
    "#### Step 1 : Set Window (8 Business Day  for specific companies)"
   ]
  },
  {
   "cell_type": "code",
   "execution_count": 21,
   "metadata": {},
   "outputs": [],
   "source": [
    "symbols = ['GOOGL','TSLA','AAPL','DIS','FB','A','IBM','LMT','KRX','AMZN','NFLX']\n",
    "datelist = pd.bdate_range(end = pd.datetime.today(), periods=5).tolist()\n",
    "dateRange = []\n",
    "for curr in datelist :\n",
    "    dateRange.append(curr.strftime('date/%Y%m%d'))\n",
    "dateRange.pop()\n",
    "dateRange.append('1d')"
   ]
  },
  {
   "cell_type": "code",
   "execution_count": 22,
   "metadata": {},
   "outputs": [],
   "source": [
    "json_result = []\n",
    "fail = 0\n",
    "for comp_name in symbols :\n",
    "    for x_date in dateRange :\n",
    "        queryStr = \"https://api.iextrading.com/1.0/stock/\"+ comp_name +\"/chart/\" + x_date\n",
    "        try:\n",
    "            contents = requests.get(queryStr).json()\n",
    "        except :\n",
    "            fail += 1\n",
    "        for x in contents :\n",
    "            x['company'] = comp_name\n",
    "        json_result += contents\n",
    "    time.sleep(1)\n",
    "    "
   ]
  },
  {
   "cell_type": "code",
   "execution_count": 23,
   "metadata": {},
   "outputs": [
    {
     "data": {
      "text/plain": [
       "5"
      ]
     },
     "execution_count": 23,
     "metadata": {},
     "output_type": "execute_result"
    }
   ],
   "source": [
    "fail"
   ]
  },
  {
   "cell_type": "code",
   "execution_count": 34,
   "metadata": {},
   "outputs": [
    {
     "data": {
      "text/plain": [
       "21450"
      ]
     },
     "execution_count": 34,
     "metadata": {},
     "output_type": "execute_result"
    }
   ],
   "source": [
    "len(json_result)"
   ]
  },
  {
   "cell_type": "code",
   "execution_count": 24,
   "metadata": {},
   "outputs": [
    {
     "data": {
      "text/plain": [
       "5063"
      ]
     },
     "execution_count": 24,
     "metadata": {},
     "output_type": "execute_result"
    }
   ],
   "source": [
    "filtered_positive_result = [item for item in json_result if positive_filter(item)]\n",
    "len(filtered_positive_result)\n",
    "# pd.DataFrame(filtered_result)"
   ]
  },
  {
   "cell_type": "code",
   "execution_count": 25,
   "metadata": {},
   "outputs": [
    {
     "data": {
      "text/plain": [
       "11734"
      ]
     },
     "execution_count": 25,
     "metadata": {},
     "output_type": "execute_result"
    }
   ],
   "source": [
    "filtered_negative_result = [item for item in json_result if negative_filter(item)]\n",
    "len(filtered_negative_result)"
   ]
  },
  {
   "cell_type": "markdown",
   "metadata": {},
   "source": [
    "## Counting Distinct Elements"
   ]
  },
  {
   "cell_type": "markdown",
   "metadata": {},
   "source": [
    "#### Step 1 : Define hash function"
   ]
  },
  {
   "cell_type": "code",
   "execution_count": 57,
   "metadata": {},
   "outputs": [],
   "source": [
    "fhash = lambda s : (sum(map(ord, s)) * 2 + 2) % 32"
   ]
  },
  {
   "cell_type": "code",
   "execution_count": 58,
   "metadata": {},
   "outputs": [],
   "source": [
    "def get_trailing_zeros(num):\n",
    "    bit = '{0:b}'.format(num)\n",
    "    return len(bit) - len(bit.rstrip('0'))"
   ]
  },
  {
   "cell_type": "markdown",
   "metadata": {},
   "source": [
    "#### Step 2 : Count distinct elements while sampling"
   ]
  },
  {
   "cell_type": "code",
   "execution_count": 59,
   "metadata": {},
   "outputs": [],
   "source": [
    "companies, samples = [item['symbol'] for item in get_available_symbols()], []\n",
    "max_trailing_zeros = 0\n",
    "for i in range(32):\n",
    "    contents = []\n",
    "    while contents == []:\n",
    "        company = random.choice(companies)\n",
    "        queryStr = 'https://api.iextrading.com/1.0/stock/%s/chart/' % company\n",
    "        trailing_zeros = get_trailing_zeros(fhash(company))\n",
    "#         print(trailing_zeros, fhash(company), company)\n",
    "        if trailing_zeros > max_trailing_zeros:\n",
    "            max_trailing_zeros = trailing_zeros\n",
    "        contents = requests.get(queryStr).json()\n",
    "    samples += contents"
   ]
  },
  {
   "cell_type": "markdown",
   "metadata": {},
   "source": [
    "#### Step 3 : Estimate distinct element(s)"
   ]
  },
  {
   "cell_type": "code",
   "execution_count": 31,
   "metadata": {},
   "outputs": [
    {
     "data": {
      "text/plain": [
       "8"
      ]
     },
     "execution_count": 31,
     "metadata": {},
     "output_type": "execute_result"
    }
   ],
   "source": [
    "distinct_elements = lambda trailing_zeros : 2 ** trailing_zeros\n",
    "distinct_elements(max_trailing_zeros)"
   ]
  },
  {
   "cell_type": "markdown",
   "metadata": {},
   "source": [
    "## Counting Itemset"
   ]
  },
  {
   "cell_type": "markdown",
   "metadata": {},
   "source": [
    "#### Construct Result"
   ]
  },
  {
   "cell_type": "code",
   "execution_count": 26,
   "metadata": {},
   "outputs": [],
   "source": [
    "filter_res = filtered_negative_result"
   ]
  },
  {
   "cell_type": "code",
   "execution_count": 27,
   "metadata": {},
   "outputs": [],
   "source": [
    "minute_basket_keys = sorted(list(set([d['date'] + \"||\" + d['minute'] for d in filter_res])),reverse = True)\n",
    "minute_baskets = {key: [] for key in minute_basket_keys}"
   ]
  },
  {
   "cell_type": "code",
   "execution_count": 28,
   "metadata": {},
   "outputs": [],
   "source": [
    "unused_keys = ['date','label']\n",
    "for x in filter_res :\n",
    "    min_key = x['date'] + \"||\" + x['minute']\n",
    "    minute_baskets[min_key].append(without(x,unused_keys))"
   ]
  },
  {
   "cell_type": "code",
   "execution_count": 29,
   "metadata": {},
   "outputs": [
    {
     "data": {
      "text/html": [
       "<div>\n",
       "<style scoped>\n",
       "    .dataframe tbody tr th:only-of-type {\n",
       "        vertical-align: middle;\n",
       "    }\n",
       "\n",
       "    .dataframe tbody tr th {\n",
       "        vertical-align: top;\n",
       "    }\n",
       "\n",
       "    .dataframe thead th {\n",
       "        text-align: right;\n",
       "    }\n",
       "</style>\n",
       "<table border=\"1\" class=\"dataframe\">\n",
       "  <thead>\n",
       "    <tr style=\"text-align: right;\">\n",
       "      <th></th>\n",
       "      <th>average</th>\n",
       "      <th>changeOverTime</th>\n",
       "      <th>close</th>\n",
       "      <th>company</th>\n",
       "      <th>date</th>\n",
       "      <th>high</th>\n",
       "      <th>label</th>\n",
       "      <th>low</th>\n",
       "      <th>marketAverage</th>\n",
       "      <th>marketChangeOverTime</th>\n",
       "      <th>...</th>\n",
       "      <th>marketLow</th>\n",
       "      <th>marketNotional</th>\n",
       "      <th>marketNumberOfTrades</th>\n",
       "      <th>marketOpen</th>\n",
       "      <th>marketVolume</th>\n",
       "      <th>minute</th>\n",
       "      <th>notional</th>\n",
       "      <th>numberOfTrades</th>\n",
       "      <th>open</th>\n",
       "      <th>volume</th>\n",
       "    </tr>\n",
       "  </thead>\n",
       "  <tbody>\n",
       "    <tr>\n",
       "      <th>0</th>\n",
       "      <td>1074.270</td>\n",
       "      <td>-0.002039</td>\n",
       "      <td>1074.270</td>\n",
       "      <td>GOOGL</td>\n",
       "      <td>20181212</td>\n",
       "      <td>1074.27</td>\n",
       "      <td>09:31 AM</td>\n",
       "      <td>1074.27</td>\n",
       "      <td>1074.844</td>\n",
       "      <td>-0.002046</td>\n",
       "      <td>...</td>\n",
       "      <td>1073.13</td>\n",
       "      <td>6.403922e+06</td>\n",
       "      <td>150</td>\n",
       "      <td>1076.070</td>\n",
       "      <td>5958</td>\n",
       "      <td>09:31</td>\n",
       "      <td>42970.80</td>\n",
       "      <td>1</td>\n",
       "      <td>1074.27</td>\n",
       "      <td>40</td>\n",
       "    </tr>\n",
       "    <tr>\n",
       "      <th>1</th>\n",
       "      <td>1075.163</td>\n",
       "      <td>-0.001210</td>\n",
       "      <td>1074.620</td>\n",
       "      <td>GOOGL</td>\n",
       "      <td>20181212</td>\n",
       "      <td>1075.31</td>\n",
       "      <td>09:47 AM</td>\n",
       "      <td>1074.62</td>\n",
       "      <td>1075.345</td>\n",
       "      <td>-0.001581</td>\n",
       "      <td>...</td>\n",
       "      <td>1046.20</td>\n",
       "      <td>1.394507e+07</td>\n",
       "      <td>282</td>\n",
       "      <td>1077.000</td>\n",
       "      <td>12968</td>\n",
       "      <td>09:47</td>\n",
       "      <td>752614.00</td>\n",
       "      <td>5</td>\n",
       "      <td>1075.31</td>\n",
       "      <td>700</td>\n",
       "    </tr>\n",
       "    <tr>\n",
       "      <th>2</th>\n",
       "      <td>1075.645</td>\n",
       "      <td>-0.000762</td>\n",
       "      <td>1075.380</td>\n",
       "      <td>GOOGL</td>\n",
       "      <td>20181212</td>\n",
       "      <td>1075.87</td>\n",
       "      <td>09:48 AM</td>\n",
       "      <td>1075.38</td>\n",
       "      <td>1075.365</td>\n",
       "      <td>-0.001563</td>\n",
       "      <td>...</td>\n",
       "      <td>1074.33</td>\n",
       "      <td>1.238067e+07</td>\n",
       "      <td>188</td>\n",
       "      <td>1074.710</td>\n",
       "      <td>11513</td>\n",
       "      <td>09:48</td>\n",
       "      <td>860516.00</td>\n",
       "      <td>9</td>\n",
       "      <td>1075.66</td>\n",
       "      <td>800</td>\n",
       "    </tr>\n",
       "    <tr>\n",
       "      <th>3</th>\n",
       "      <td>1076.104</td>\n",
       "      <td>-0.000335</td>\n",
       "      <td>1076.135</td>\n",
       "      <td>GOOGL</td>\n",
       "      <td>20181212</td>\n",
       "      <td>1076.63</td>\n",
       "      <td>09:49 AM</td>\n",
       "      <td>1075.58</td>\n",
       "      <td>1075.926</td>\n",
       "      <td>-0.001042</td>\n",
       "      <td>...</td>\n",
       "      <td>1074.80</td>\n",
       "      <td>6.181196e+06</td>\n",
       "      <td>103</td>\n",
       "      <td>1075.720</td>\n",
       "      <td>5745</td>\n",
       "      <td>09:49</td>\n",
       "      <td>430441.50</td>\n",
       "      <td>4</td>\n",
       "      <td>1075.58</td>\n",
       "      <td>400</td>\n",
       "    </tr>\n",
       "    <tr>\n",
       "      <th>4</th>\n",
       "      <td>1075.814</td>\n",
       "      <td>-0.000605</td>\n",
       "      <td>1076.110</td>\n",
       "      <td>GOOGL</td>\n",
       "      <td>20181212</td>\n",
       "      <td>1076.12</td>\n",
       "      <td>09:55 AM</td>\n",
       "      <td>1075.38</td>\n",
       "      <td>1075.924</td>\n",
       "      <td>-0.001044</td>\n",
       "      <td>...</td>\n",
       "      <td>1074.93</td>\n",
       "      <td>8.713909e+06</td>\n",
       "      <td>162</td>\n",
       "      <td>1076.925</td>\n",
       "      <td>8099</td>\n",
       "      <td>09:55</td>\n",
       "      <td>578787.72</td>\n",
       "      <td>8</td>\n",
       "      <td>1075.38</td>\n",
       "      <td>538</td>\n",
       "    </tr>\n",
       "  </tbody>\n",
       "</table>\n",
       "<p>5 rows × 22 columns</p>\n",
       "</div>"
      ],
      "text/plain": [
       "    average  changeOverTime     close company      date     high     label  \\\n",
       "0  1074.270       -0.002039  1074.270   GOOGL  20181212  1074.27  09:31 AM   \n",
       "1  1075.163       -0.001210  1074.620   GOOGL  20181212  1075.31  09:47 AM   \n",
       "2  1075.645       -0.000762  1075.380   GOOGL  20181212  1075.87  09:48 AM   \n",
       "3  1076.104       -0.000335  1076.135   GOOGL  20181212  1076.63  09:49 AM   \n",
       "4  1075.814       -0.000605  1076.110   GOOGL  20181212  1076.12  09:55 AM   \n",
       "\n",
       "       low  marketAverage  marketChangeOverTime   ...    marketLow  \\\n",
       "0  1074.27       1074.844             -0.002046   ...      1073.13   \n",
       "1  1074.62       1075.345             -0.001581   ...      1046.20   \n",
       "2  1075.38       1075.365             -0.001563   ...      1074.33   \n",
       "3  1075.58       1075.926             -0.001042   ...      1074.80   \n",
       "4  1075.38       1075.924             -0.001044   ...      1074.93   \n",
       "\n",
       "   marketNotional  marketNumberOfTrades  marketOpen  marketVolume  minute  \\\n",
       "0    6.403922e+06                   150    1076.070          5958   09:31   \n",
       "1    1.394507e+07                   282    1077.000         12968   09:47   \n",
       "2    1.238067e+07                   188    1074.710         11513   09:48   \n",
       "3    6.181196e+06                   103    1075.720          5745   09:49   \n",
       "4    8.713909e+06                   162    1076.925          8099   09:55   \n",
       "\n",
       "    notional numberOfTrades     open  volume  \n",
       "0   42970.80              1  1074.27      40  \n",
       "1  752614.00              5  1075.31     700  \n",
       "2  860516.00              9  1075.66     800  \n",
       "3  430441.50              4  1075.58     400  \n",
       "4  578787.72              8  1075.38     538  \n",
       "\n",
       "[5 rows x 22 columns]"
      ]
     },
     "execution_count": 29,
     "metadata": {},
     "output_type": "execute_result"
    }
   ],
   "source": [
    "pd.DataFrame(filter_res).head()"
   ]
  },
  {
   "cell_type": "markdown",
   "metadata": {},
   "source": [
    "#### Counting Itemsets (What to buy)"
   ]
  },
  {
   "cell_type": "code",
   "execution_count": 30,
   "metadata": {},
   "outputs": [],
   "source": [
    "compCountStr = {key: \"\" for key in symbols}\n",
    "for key in minute_baskets :\n",
    "    for s in symbols :\n",
    "        if any(d['company'] == s for d in minute_baskets[key]):\n",
    "            compCountStr[s] += \"1\"\n",
    "        else :\n",
    "            compCountStr[s] += \"0\""
   ]
  },
  {
   "cell_type": "code",
   "execution_count": 31,
   "metadata": {},
   "outputs": [
    {
     "data": {
      "text/plain": [
       "{'GOOGL': 479,\n",
       " 'TSLA': 792,\n",
       " 'AAPL': 790,\n",
       " 'DIS': 1316,\n",
       " 'FB': 645,\n",
       " 'A': 938,\n",
       " 'IBM': 879,\n",
       " 'LMT': 709,\n",
       " 'KRX': 229,\n",
       " 'AMZN': 905,\n",
       " 'NFLX': 577}"
      ]
     },
     "execution_count": 31,
     "metadata": {},
     "output_type": "execute_result"
    }
   ],
   "source": [
    "bar_dict = {}\n",
    "for key in compCountStr :\n",
    "    bar_dict[key] = compCountStr[key].count('1')\n",
    "bar_dict"
   ]
  },
  {
   "cell_type": "code",
   "execution_count": 32,
   "metadata": {},
   "outputs": [
    {
     "data": {
      "image/png": "[encoded data removed]",
      "text/plain": [
       "<Figure size 432x288 with 1 Axes>"
      ]
     },
     "metadata": {
      "needs_background": "light"
     },
     "output_type": "display_data"
    }
   ],
   "source": [
    "import matplotlib.pyplot as plt\n",
    "plt.bar(range(len(bar_dict)),list(bar_dict.values()), align='center')\n",
    "plt.xticks(range(len(bar_dict)), list(bar_dict.keys()))\n",
    "plt.show()"
   ]
  },
  {
   "cell_type": "markdown",
   "metadata": {},
   "source": [
    "#### Counting Itemsets (When to Buy)"
   ]
  },
  {
   "cell_type": "code",
   "execution_count": 97,
   "metadata": {},
   "outputs": [],
   "source": [
    "minutes = sorted(list(set([d['minute'] for d in json_result])),reverse = False)"
   ]
  },
  {
   "cell_type": "code",
   "execution_count": 98,
   "metadata": {},
   "outputs": [],
   "source": [
    "minuteCountStr = {key: \"\" for key in minutes}\n",
    "for key in minute_baskets :\n",
    "    for s in minutes :\n",
    "        if any(d['minute'] == s for d in minute_baskets[key]):\n",
    "            minuteCountStr[s] += \"1\"\n",
    "        else :\n",
    "            minuteCountStr[s] += \"0\""
   ]
  },
  {
   "cell_type": "code",
   "execution_count": 99,
   "metadata": {},
   "outputs": [
    {
     "name": "stdout",
     "output_type": "stream",
     "text": [
      "[('09:31', 4), ('09:32', 4), ('09:33', 4), ('09:34', 4), ('09:35', 4), ('09:36', 4), ('09:37', 4), ('09:38', 4), ('09:39', 4), ('09:40', 4), ('09:41', 4), ('09:42', 4), ('09:44', 4), ('09:45', 4), ('09:46', 4), ('09:47', 4), ('09:48', 4), ('09:49', 4), ('09:50', 4), ('09:51', 4), ('09:52', 4), ('09:55', 4), ('09:56', 4), ('09:58', 4), ('09:59', 4), ('10:00', 4), ('10:01', 4), ('10:02', 4), ('10:03', 4), ('10:04', 4), ('10:05', 4), ('10:06', 4), ('10:07', 4), ('10:08', 4), ('10:09', 4), ('10:10', 4), ('10:11', 4), ('10:12', 4), ('10:13', 4), ('10:14', 4), ('10:15', 4), ('10:16', 4), ('10:17', 4), ('10:18', 4), ('10:19', 4), ('10:20', 4), ('10:21', 4), ('10:22', 4), ('10:23', 4), ('10:24', 4), ('10:25', 4), ('10:26', 4), ('10:27', 4), ('10:28', 4), ('10:29', 4), ('10:30', 4), ('10:31', 4), ('10:32', 4), ('10:33', 4), ('10:34', 4), ('10:35', 4), ('10:36', 4), ('10:37', 4), ('10:38', 4), ('10:39', 4), ('10:40', 4), ('10:41', 4), ('10:42', 4), ('10:43', 4), ('10:44', 4), ('10:45', 4), ('10:46', 4), ('10:47', 4), ('10:48', 4), ('10:49', 4), ('10:50', 4), ('10:51', 4), ('10:52', 4), ('10:53', 4), ('10:54', 4), ('10:55', 4), ('10:56', 4), ('10:57', 4), ('10:58', 4), ('10:59', 4), ('11:00', 4), ('11:01', 4), ('11:02', 4), ('11:03', 4), ('11:04', 4), ('11:05', 4), ('11:06', 4), ('11:07', 4), ('11:08', 4), ('11:09', 4), ('11:10', 4), ('11:11', 4), ('11:12', 4), ('11:13', 4), ('11:14', 4), ('11:15', 4), ('11:16', 4), ('11:17', 4), ('11:18', 4), ('11:19', 4), ('11:20', 4), ('11:21', 4), ('11:22', 4), ('11:23', 4), ('11:24', 4), ('11:25', 4), ('11:26', 4), ('11:27', 4), ('11:28', 4), ('11:29', 4), ('11:30', 4), ('11:31', 4), ('11:32', 4), ('11:33', 4), ('11:34', 4), ('11:35', 4), ('11:36', 4), ('11:37', 4), ('11:38', 4), ('11:39', 4), ('11:40', 4), ('11:41', 4), ('11:42', 4), ('11:43', 4), ('11:44', 4), ('11:45', 4), ('11:46', 4), ('11:47', 4), ('11:48', 4), ('11:49', 4), ('11:50', 4), ('11:51', 4), ('11:52', 4), ('11:53', 4), ('11:54', 4), ('11:55', 4), ('11:56', 4), ('11:57', 4), ('11:58', 4), ('11:59', 4), ('12:00', 4), ('12:01', 4), ('12:02', 4), ('12:03', 4), ('12:04', 4), ('12:05', 4), ('12:06', 4), ('12:07', 4), ('12:08', 4), ('12:09', 4), ('12:10', 4), ('12:11', 4), ('12:12', 4), ('12:13', 4), ('12:14', 4), ('12:15', 4), ('12:16', 4), ('12:17', 4), ('12:18', 4), ('12:19', 4), ('12:21', 4), ('12:22', 4), ('12:23', 4), ('12:24', 4), ('12:25', 4), ('12:26', 4), ('12:29', 4), ('12:30', 4), ('12:31', 4), ('12:33', 4), ('12:34', 4), ('12:35', 4), ('12:36', 4), ('12:37', 4), ('12:38', 4), ('12:39', 4), ('12:40', 4), ('12:41', 4), ('12:42', 4), ('12:43', 4), ('12:44', 4), ('12:45', 4), ('12:46', 4), ('12:47', 4), ('12:48', 4), ('12:49', 4), ('12:50', 4), ('12:51', 4), ('12:52', 4), ('12:53', 4), ('12:54', 4), ('12:55', 4), ('12:57', 4), ('12:58', 4), ('13:00', 4), ('13:01', 4), ('13:02', 4), ('13:03', 4), ('13:04', 4), ('13:05', 4), ('13:07', 4), ('13:09', 4), ('13:10', 4), ('13:11', 4), ('13:14', 4), ('13:15', 4), ('13:16', 4), ('13:17', 4), ('13:18', 4), ('13:19', 4)]\n"
     ]
    }
   ],
   "source": [
    "listTime = []\n",
    "for key in minuteCountStr :\n",
    "    countVal = minuteCountStr[key].count('1')\n",
    "    if countVal > 3 :\n",
    "        listTime.append((key, countVal))\n",
    "print(listTime)"
   ]
  },
  {
   "cell_type": "markdown",
   "metadata": {},
   "source": [
    "#### Update"
   ]
  },
  {
   "cell_type": "code",
   "execution_count": 77,
   "metadata": {},
   "outputs": [],
   "source": [
    "json_update_result = []\n",
    "symbols = ['GOOGL','TSLA','AAPL','DIS','FB','A','IBM','LMT','KRX','AMZN','NFLX']\n",
    "fail = 0\n",
    "for comp_name in symbols :\n",
    "    x_date = random.choice(dateRange)\n",
    "    queryStr = \"https://api.iextrading.com/1.0/stock/\"+ comp_name +\"/chart/1d\"\n",
    "    try:\n",
    "        contents = requests.get(queryStr).json()\n",
    "    except :\n",
    "        fail += 1\n",
    "    for x in contents :\n",
    "        x['company'] = comp_name\n",
    "    json_update_result += contents\n",
    "    time.sleep(0.5)"
   ]
  },
  {
   "cell_type": "code",
   "execution_count": 82,
   "metadata": {},
   "outputs": [],
   "source": [
    "filtered_update_result = [item for item in json_result if positive_filter(item)]"
   ]
  },
  {
   "cell_type": "code",
   "execution_count": 103,
   "metadata": {},
   "outputs": [],
   "source": [
    "minute_update_basket_keys = sorted(list(set([d['date'] + \"||\" + d['minute'] for d in filtered_update_result])),reverse = False)\n",
    "minute_update_baskets = {key: [] for key in minute_basket_keys}"
   ]
  },
  {
   "cell_type": "code",
   "execution_count": 104,
   "metadata": {},
   "outputs": [],
   "source": [
    "unused_keys = ['date','label']\n",
    "for x in filtered_update_result :\n",
    "    min_key = x['date'] + \"||\" + x['minute']\n",
    "    minute_update_baskets[min_key].append(without(x,unused_keys))"
   ]
  },
  {
   "cell_type": "code",
   "execution_count": null,
   "metadata": {},
   "outputs": [],
   "source": []
  },
  {
   "cell_type": "markdown",
   "metadata": {},
   "source": [
    "#### Counting Itemsets (What to buy)"
   ]
  },
  {
   "cell_type": "code",
   "execution_count": 105,
   "metadata": {},
   "outputs": [],
   "source": [
    "for key in minute_update_baskets :\n",
    "    for s in symbols :\n",
    "        if any(d['company'] == s for d in minute_update_baskets[key]):\n",
    "            compCountStr[s] = \"1\" + compCountStr[s][:-1]\n",
    "        else :\n",
    "            compCountStr[s] = \"0\" + compCountStr[s][:-1]"
   ]
  },
  {
   "cell_type": "code",
   "execution_count": 106,
   "metadata": {},
   "outputs": [
    {
     "data": {
      "text/plain": [
       "1"
      ]
     },
     "execution_count": 106,
     "metadata": {},
     "output_type": "execute_result"
    }
   ],
   "source": [
    "fail"
   ]
  },
  {
   "cell_type": "code",
   "execution_count": 107,
   "metadata": {},
   "outputs": [
    {
     "data": {
      "text/plain": [
       "{'GOOGL': 574,\n",
       " 'TSLA': 343,\n",
       " 'AAPL': 732,\n",
       " 'DIS': 110,\n",
       " 'FB': 902,\n",
       " 'A': 30,\n",
       " 'IBM': 350,\n",
       " 'LMT': 21,\n",
       " 'KRX': 15,\n",
       " 'AMZN': 377,\n",
       " 'NFLX': 788}"
      ]
     },
     "execution_count": 107,
     "metadata": {},
     "output_type": "execute_result"
    }
   ],
   "source": [
    "bar_dict = {}\n",
    "for key in compCountStr :\n",
    "    bar_dict[key] = compCountStr[key].count('1')\n",
    "bar_dict"
   ]
  },
  {
   "cell_type": "code",
   "execution_count": 96,
   "metadata": {},
   "outputs": [
    {
     "data": {
      "image/png": "[encoded data removed]",
      "text/plain": [
       "<Figure size 432x288 with 1 Axes>"
      ]
     },
     "metadata": {
      "needs_background": "light"
     },
     "output_type": "display_data"
    }
   ],
   "source": [
    "plt.bar(range(len(bar_dict)),list(bar_dict.values()), align='center')\n",
    "plt.xticks(range(len(bar_dict)), list(bar_dict.keys()))\n",
    "plt.show()"
   ]
  },
  {
   "cell_type": "markdown",
   "metadata": {},
   "source": [
    "#### Counting Itemsets (When to Buy)"
   ]
  },
  {
   "cell_type": "code",
   "execution_count": 227,
   "metadata": {},
   "outputs": [],
   "source": [
    "for key in minute_baskets :\n",
    "    for s in minutes :\n",
    "        if any(d['minute'] == s for d in minute_baskets[key]):\n",
    "            minuteCountStr[s] = \"1\" + minuteCountStr[s][:-1]\n",
    "        else :\n",
    "            minuteCountStr[s] = \"0\" + minuteCountStr[s][:-1]"
   ]
  },
  {
   "cell_type": "code",
   "execution_count": 230,
   "metadata": {},
   "outputs": [
    {
     "name": "stdout",
     "output_type": "stream",
     "text": [
      "[('09:31', 4), ('09:32', 4), ('09:33', 3), ('09:34', 4), ('09:35', 4), ('09:36', 4), ('09:37', 4), ('09:38', 4), ('09:39', 3), ('09:40', 3), ('09:41', 3), ('09:42', 3), ('09:43', 3), ('09:44', 3), ('09:45', 4), ('09:46', 3), ('09:47', 3), ('09:48', 3), ('09:49', 3), ('09:50', 4), ('09:51', 3), ('09:52', 4), ('09:53', 3), ('09:54', 4), ('09:55', 3), ('09:56', 3), ('09:57', 3), ('09:58', 3), ('09:59', 3), ('10:00', 3), ('10:01', 3), ('10:02', 4), ('10:03', 4), ('10:04', 4), ('10:05', 4), ('10:06', 3), ('10:07', 4), ('10:08', 4), ('10:09', 4), ('10:10', 4), ('10:11', 4), ('10:12', 4), ('10:13', 4), ('10:14', 4), ('10:15', 4), ('10:16', 4), ('10:17', 4), ('10:18', 4), ('10:19', 4), ('10:20', 4), ('10:21', 4), ('10:22', 4), ('10:23', 3), ('10:24', 4), ('10:25', 3), ('10:26', 3), ('10:27', 4), ('10:28', 4), ('10:29', 4), ('10:30', 4), ('10:31', 4), ('10:32', 3), ('10:33', 3), ('10:34', 4), ('10:35', 4), ('10:36', 4), ('10:37', 4), ('10:38', 4), ('10:39', 4), ('10:40', 4), ('10:41', 4), ('10:42', 4), ('10:43', 4), ('10:44', 4), ('10:45', 4), ('10:46', 4), ('10:47', 4), ('10:48', 4), ('10:49', 4), ('10:50', 4), ('10:51', 4), ('10:52', 4), ('10:53', 4), ('10:54', 4), ('10:55', 4), ('10:56', 4), ('10:57', 4), ('10:58', 4), ('10:59', 4), ('11:00', 4), ('11:01', 4), ('11:02', 4), ('11:03', 4), ('11:04', 4), ('11:05', 4), ('11:06', 4), ('11:07', 4), ('11:08', 4), ('11:09', 3), ('11:10', 3), ('11:11', 4), ('11:12', 4), ('11:13', 4), ('11:14', 4), ('11:15', 4), ('11:16', 4), ('11:17', 4), ('11:18', 3), ('11:19', 3), ('11:20', 3), ('11:21', 4), ('11:22', 4), ('11:23', 3), ('11:24', 3), ('11:25', 3), ('11:26', 4), ('11:27', 4), ('11:28', 4), ('11:29', 4), ('11:30', 4), ('11:31', 4), ('11:32', 4), ('11:33', 4), ('11:34', 3), ('11:35', 3), ('11:36', 3), ('11:37', 3), ('11:38', 3), ('11:39', 3), ('11:40', 3), ('11:41', 3), ('11:42', 3), ('11:43', 3), ('11:44', 4), ('11:45', 4), ('11:46', 4), ('11:47', 4), ('11:48', 4), ('11:49', 4), ('11:50', 4), ('11:51', 4), ('11:52', 4), ('11:53', 4), ('11:54', 4), ('11:55', 4), ('11:56', 4), ('11:57', 4), ('11:58', 4), ('11:59', 4), ('12:00', 4), ('12:01', 4), ('12:02', 4), ('12:03', 4), ('12:04', 3), ('12:05', 3), ('12:06', 4), ('12:07', 3), ('12:08', 4), ('12:09', 4), ('12:10', 3), ('12:11', 4), ('12:12', 4), ('12:13', 4), ('12:14', 3), ('12:15', 4), ('12:16', 4), ('12:17', 4), ('12:18', 4), ('12:19', 3), ('12:20', 2), ('12:21', 3), ('12:22', 4), ('12:23', 4), ('12:24', 2), ('12:25', 2), ('12:26', 3), ('12:27', 1), ('12:28', 1), ('12:29', 2), ('12:30', 3), ('12:31', 3), ('12:32', 2), ('12:33', 3), ('12:34', 3), ('12:35', 3), ('12:36', 3), ('12:37', 3), ('12:38', 3), ('12:39', 3), ('12:40', 4), ('12:41', 3), ('12:42', 3), ('12:43', 3), ('12:44', 3), ('12:45', 3), ('12:46', 3), ('12:47', 3), ('12:48', 3), ('12:49', 3), ('12:50', 3), ('12:51', 3), ('12:52', 3), ('12:53', 3), ('12:54', 3), ('12:55', 3), ('12:56', 2), ('12:57', 4), ('12:58', 4), ('12:59', 2), ('13:00', 3), ('13:01', 3), ('13:02', 4), ('13:03', 4), ('13:04', 4), ('13:05', 4), ('13:06', 3), ('13:07', 3), ('13:08', 2), ('13:09', 3), ('13:10', 3), ('13:11', 3), ('13:12', 2), ('13:13', 2), ('13:14', 3), ('13:15', 3), ('13:16', 3), ('13:17', 3), ('13:18', 3), ('13:19', 3), ('13:20', 3), ('13:21', 3), ('13:22', 3), ('13:23', 3), ('13:24', 3), ('13:25', 3), ('13:26', 3), ('13:27', 3), ('13:28', 3), ('13:29', 3), ('13:30', 3), ('13:31', 3), ('13:32', 3), ('13:33', 3), ('13:34', 3), ('13:35', 3), ('13:36', 3), ('13:37', 3), ('13:38', 3), ('13:39', 3), ('13:40', 3), ('13:41', 3), ('13:42', 3), ('13:43', 2), ('13:44', 2), ('13:45', 3), ('13:46', 3), ('13:47', 3), ('13:48', 2), ('13:49', 3), ('13:50', 3), ('13:51', 3), ('13:52', 3), ('13:53', 3), ('13:54', 3), ('13:55', 2), ('13:56', 3), ('13:57', 3), ('13:58', 3), ('13:59', 3), ('14:00', 3), ('14:01', 3), ('14:02', 2), ('14:03', 3), ('14:04', 3), ('14:05', 2), ('14:06', 3), ('14:07', 3), ('14:08', 3), ('14:09', 3), ('14:10', 3), ('14:11', 3), ('14:12', 3), ('14:13', 3), ('14:14', 3), ('14:15', 3), ('14:16', 3), ('14:17', 2), ('14:18', 2), ('14:19', 3), ('14:20', 2), ('14:21', 3), ('14:22', 3), ('14:23', 3), ('14:24', 3), ('14:25', 3), ('14:26', 3), ('14:27', 3), ('14:28', 4), ('14:29', 3), ('14:30', 4), ('14:31', 4), ('14:32', 4), ('14:33', 4), ('14:34', 3), ('14:35', 4), ('14:36', 2), ('14:37', 3), ('14:38', 4), ('14:39', 4), ('14:40', 4), ('14:41', 4), ('14:42', 2), ('14:43', 4), ('14:44', 4), ('14:45', 3), ('14:46', 4), ('14:47', 3), ('14:48', 3), ('14:49', 4), ('14:50', 3), ('14:51', 3), ('14:52', 3), ('14:53', 3), ('14:54', 4), ('14:55', 3), ('14:56', 3), ('14:57', 4), ('14:58', 4), ('14:59', 4), ('15:00', 3), ('15:01', 3), ('15:02', 3), ('15:03', 3), ('15:04', 2), ('15:05', 3), ('15:06', 3), ('15:07', 2), ('15:08', 2), ('15:09', 3), ('15:10', 4), ('15:11', 4), ('15:12', 4), ('15:13', 4), ('15:14', 4), ('15:15', 4), ('15:16', 4), ('15:17', 4), ('15:18', 4), ('15:19', 4), ('15:20', 4), ('15:21', 4), ('15:22', 4), ('15:23', 4), ('15:24', 4), ('15:25', 3), ('15:26', 4), ('15:27', 4), ('15:28', 4), ('15:29', 4), ('15:30', 4), ('15:31', 4), ('15:32', 4), ('15:33', 4), ('15:34', 4), ('15:35', 4), ('15:36', 4), ('15:37', 4), ('15:38', 4), ('15:39', 4), ('15:40', 4), ('15:41', 4), ('15:42', 4), ('15:43', 4), ('15:44', 4), ('15:45', 4), ('15:46', 4), ('15:47', 4), ('15:48', 4), ('15:49', 4), ('15:50', 4), ('15:51', 3), ('15:52', 3), ('15:53', 3), ('15:54', 3), ('15:55', 3), ('15:56', 3), ('15:57', 3), ('15:58', 3), ('15:59', 3)]\n"
     ]
    }
   ],
   "source": [
    "listTime = []\n",
    "for key in minuteCountStr :\n",
    "    countVal = minuteCountStr[key].count('1')\n",
    "    if countVal > 0 :\n",
    "        listTime.append((key, countVal))\n",
    "print(listTime)"
   ]
  },
  {
   "cell_type": "code",
   "execution_count": null,
   "metadata": {},
   "outputs": [],
   "source": []
  }
 ],
 "metadata": {
  "kernelspec": {
   "display_name": "Python 3",
   "language": "python",
   "name": "python3"
  },
  "language_info": {
   "codemirror_mode": {
    "name": "ipython",
    "version": 3
   },
   "file_extension": ".py",
   "mimetype": "text/x-python",
   "name": "python",
   "nbconvert_exporter": "python",
   "pygments_lexer": "ipython3",
   "version": "3.7.0"
  }
 },
 "nbformat": 4,
 "nbformat_minor": 2
}
